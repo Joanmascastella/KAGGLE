{
 "cells": [
  {
   "cell_type": "code",
   "execution_count": 198,
   "metadata": {},
   "outputs": [],
   "source": [
    "# PyTorch Library\n",
    "import torch \n",
    "# PyTorch Neural Network\n",
    "import torch.nn as nn\n",
    "# Allows us to transform data\n",
    "import torchvision.transforms as transforms\n",
    "# Allows us to get the digit dataset\n",
    "import torchvision.datasets as dsets\n",
    "# Creating graphs\n",
    "import matplotlib.pylab as plt\n",
    "# Allows us to use arrays to manipulate and store data\n",
    "import os\n",
    "from PIL import Image\n",
    "import torch.optim as optim"
   ]
  },
  {
   "cell_type": "markdown",
   "metadata": {},
   "source": [
    "Use the following function to plot out the parameters of the Softmax function:"
   ]
  },
  {
   "cell_type": "code",
   "execution_count": 199,
   "metadata": {},
   "outputs": [],
   "source": [
    "# The function to plot parameters\n",
    "\n",
    "def PlotParameters(model): \n",
    "    W = model.state_dict()['linear.weight'].data\n",
    "    w_min = W.min().item()\n",
    "    w_max = W.max().item()\n",
    "    fig, axes = plt.subplots(2, 5)\n",
    "    fig.subplots_adjust(hspace=0.01, wspace=0.1)\n",
    "    for i, ax in enumerate(axes.flat):\n",
    "        if i < 10:\n",
    "            \n",
    "            # Set the label for the sub-plot.\n",
    "            ax.set_xlabel(\"class: {0}\".format(i))\n",
    "\n",
    "            # Plot the image.\n",
    "            ax.imshow(W[i, :].view(28, 28), vmin=w_min, vmax=w_max, cmap='seismic')\n",
    "\n",
    "            ax.set_xticks([])\n",
    "            ax.set_yticks([])\n",
    "\n",
    "        # Ensure the plot is shown correctly with multiple plots\n",
    "        # in a single Notebook cell.\n",
    "    plt.show()"
   ]
  },
  {
   "cell_type": "markdown",
   "metadata": {},
   "source": [
    "Use the following function to visualize the data: "
   ]
  },
  {
   "cell_type": "code",
   "execution_count": 200,
   "metadata": {},
   "outputs": [],
   "source": [
    "# Plot the data\n",
    "def show_data(data_sample):\n",
    "    plt.imshow(data_sample[0].numpy().reshape(28, 28), cmap='gray')\n",
    "    plt.title('y = ' + str(data_sample[1]))"
   ]
  },
  {
   "cell_type": "markdown",
   "metadata": {},
   "source": [
    "Load Datasets"
   ]
  },
  {
   "cell_type": "code",
   "execution_count": 201,
   "metadata": {},
   "outputs": [],
   "source": [
    "train_dog_images = '/Users/joanmascastella/Desktop/CODE/backup/Cat_Dog_Classifier/Data/Train_Data/Dog'\n",
    "train_cat_images = '/Users/joanmascastella/Desktop/CODE/backup/Cat_Dog_Classifier/Data/Train_Data/Cat'\n",
    "\n",
    "validation_dog_images = '/Users/joanmascastella/Desktop/CODE/backup/Cat_Dog_Classifier/Data/Test_Data/Dog'\n",
    "validation_cat_images = '/Users/joanmascastella/Desktop/CODE/backup/Cat_Dog_Classifier/Data/Test_Data/Cat'"
   ]
  },
  {
   "cell_type": "markdown",
   "metadata": {},
   "source": [
    "Transform Images\n",
    "\n",
    "- Ensure that images are all same size \n",
    "- Ensure that images are all grey scale\n",
    "- Ensure that labels are applied"
   ]
  },
  {
   "cell_type": "code",
   "execution_count": 202,
   "metadata": {},
   "outputs": [],
   "source": [
    "# Image transformations: resize to 128x128, convert to grayscale and transform to tensor\n",
    "image_transforms = transforms.Compose([\n",
    "    transforms.Grayscale(),        # Convert to grayscale\n",
    "    transforms.Resize((128, 128)),  # Resize to 128x128\n",
    "    transforms.ToTensor(),          # Convert to tensor\n",
    "    transforms.Normalize(mean=[0.5], std=[0.5])  # Normalizing grayscale images\n",
    "])"
   ]
  },
  {
   "cell_type": "markdown",
   "metadata": {},
   "source": [
    "Load images from folder and assign labels to them"
   ]
  },
  {
   "cell_type": "code",
   "execution_count": 203,
   "metadata": {},
   "outputs": [],
   "source": [
    "def load_images_from_folder(folder, label):\n",
    "    images = []\n",
    "    labels = []\n",
    "    for filename in os.listdir(folder):\n",
    "        if filename.endswith('.jpeg') or filename.endswith('.jpg') or filename.endswith('.png'):  # Check for valid image files\n",
    "            img_path = os.path.join(folder, filename)\n",
    "            try:\n",
    "                img = Image.open(img_path)\n",
    "                img = image_transforms(img)\n",
    "                images.append(img)\n",
    "                labels.append(label)\n",
    "            except Exception as e:\n",
    "                print(f\"Error loading image {img_path}: {e}\")\n",
    "        else:\n",
    "            print(f\"Skipping non-image file: {filename}\")\n",
    "    return images, labels"
   ]
  },
  {
   "cell_type": "markdown",
   "metadata": {},
   "source": [
    "Loading Images and assigning labels"
   ]
  },
  {
   "cell_type": "code",
   "execution_count": 204,
   "metadata": {},
   "outputs": [
    {
     "name": "stdout",
     "output_type": "stream",
     "text": [
      "Skipping non-image file: .DS_Store\n",
      "Skipping non-image file: .DS_Store\n"
     ]
    }
   ],
   "source": [
    "#Train dataset\n",
    "train_dog_tensors, train_dog_lables = load_images_from_folder(train_dog_images, 1)\n",
    "train_cat_tensors, train_cat_lables = load_images_from_folder(train_cat_images, 0)\n",
    "\n",
    "#Validation dataset\n",
    "validation_dog_tensors, validation_dog_lables = load_images_from_folder(validation_dog_images, 1)\n",
    "validation_cat_tensors, validation_cat_lables = load_images_from_folder(validation_cat_images, 0)"
   ]
  },
  {
   "cell_type": "markdown",
   "metadata": {},
   "source": [
    "Combine all images and lables"
   ]
  },
  {
   "cell_type": "code",
   "execution_count": 205,
   "metadata": {},
   "outputs": [],
   "source": [
    "train_images = train_dog_tensors + train_cat_tensors\n",
    "train_labels = train_dog_lables + train_cat_lables\n",
    "\n",
    "val_images = validation_dog_tensors + validation_cat_tensors\n",
    "val_labels = validation_dog_lables + validation_cat_lables"
   ]
  },
  {
   "cell_type": "markdown",
   "metadata": {},
   "source": [
    "Converting Lists to tensors"
   ]
  },
  {
   "cell_type": "code",
   "execution_count": 206,
   "metadata": {},
   "outputs": [],
   "source": [
    "# Stack the image tensors\n",
    "train_image_tensor = torch.stack(train_images) \n",
    "train_labels_tensor = torch.tensor(train_labels)  \n",
    "\n",
    "validation_image_tensor = torch.stack(val_images)\n",
    "validation_label_tensor = torch.tensor(val_labels)"
   ]
  },
  {
   "cell_type": "markdown",
   "metadata": {},
   "source": [
    "Building a Softmax Classifier"
   ]
  },
  {
   "cell_type": "code",
   "execution_count": 207,
   "metadata": {},
   "outputs": [],
   "source": [
    "class SimpleNN(nn.Module):\n",
    "    def __init__(self, input_size, hidden_size, output_size):\n",
    "        super(SimpleNN, self).__init__()\n",
    "        self.fc1 = nn.Linear(input_size, hidden_size)\n",
    "        self.relu = nn.ReLU()\n",
    "        self.fc2 = nn.Linear(hidden_size, output_size)\n",
    "    \n",
    "    def forward(self, x):\n",
    "        x = x.view(x.size(0), -1)  # Flatten the input\n",
    "        x = self.relu(self.fc1(x))  # Hidden layer with ReLU activation\n",
    "        x = self.fc2(x)  # Output layer\n",
    "        return x"
   ]
  },
  {
   "cell_type": "code",
   "execution_count": 208,
   "metadata": {},
   "outputs": [],
   "source": [
    "# Parameters\n",
    "input_size = 128 * 128  # Flattened image size\n",
    "output_size = 2  # Binary classification: dog (1) and cat (0)"
   ]
  },
  {
   "cell_type": "code",
   "execution_count": 209,
   "metadata": {},
   "outputs": [],
   "source": [
    "# Instantiate the model\n",
    "model = SimpleNN(input_size=input_size, hidden_size=128, output_size=output_size)\n"
   ]
  },
  {
   "cell_type": "code",
   "execution_count": 210,
   "metadata": {},
   "outputs": [],
   "source": [
    "train_image_tensor = train_image_tensor.view(train_image_tensor.size(0), -1)  # (30, 1, 128, 128) -> (30, 16384"
   ]
  },
  {
   "cell_type": "code",
   "execution_count": 211,
   "metadata": {},
   "outputs": [
    {
     "name": "stdout",
     "output_type": "stream",
     "text": [
      "torch.Size([30, 2])\n"
     ]
    }
   ],
   "source": [
    "output = model(train_image_tensor)\n",
    "print(output.shape)  "
   ]
  },
  {
   "cell_type": "markdown",
   "metadata": {},
   "source": [
    "Loss Function and Optimization"
   ]
  },
  {
   "cell_type": "code",
   "execution_count": 212,
   "metadata": {},
   "outputs": [
    {
     "name": "stdout",
     "output_type": "stream",
     "text": [
      "Epoch [1/100], Loss: 0.6978, Accuracy: 0.5333\n",
      "Epoch [2/100], Loss: 0.6465, Accuracy: 0.5333\n",
      "Epoch [3/100], Loss: 0.6026, Accuracy: 0.5333\n",
      "Epoch [4/100], Loss: 0.5646, Accuracy: 0.5333\n",
      "Epoch [5/100], Loss: 0.5315, Accuracy: 0.5333\n",
      "Epoch [6/100], Loss: 0.5024, Accuracy: 0.5333\n",
      "Epoch [7/100], Loss: 0.4766, Accuracy: 0.5000\n",
      "Epoch [8/100], Loss: 0.4536, Accuracy: 0.5333\n",
      "Epoch [9/100], Loss: 0.4330, Accuracy: 0.5333\n",
      "Epoch [10/100], Loss: 0.4144, Accuracy: 0.5667\n",
      "Epoch [11/100], Loss: 0.3974, Accuracy: 0.5000\n",
      "Epoch [12/100], Loss: 0.3819, Accuracy: 0.4667\n",
      "Epoch [13/100], Loss: 0.3676, Accuracy: 0.5000\n",
      "Epoch [14/100], Loss: 0.3544, Accuracy: 0.5000\n",
      "Epoch [15/100], Loss: 0.3422, Accuracy: 0.5333\n",
      "Epoch [16/100], Loss: 0.3308, Accuracy: 0.5000\n",
      "Epoch [17/100], Loss: 0.3202, Accuracy: 0.5000\n",
      "Epoch [18/100], Loss: 0.3103, Accuracy: 0.5000\n",
      "Epoch [19/100], Loss: 0.3010, Accuracy: 0.5000\n",
      "Epoch [20/100], Loss: 0.2923, Accuracy: 0.5000\n",
      "Epoch [21/100], Loss: 0.2840, Accuracy: 0.4667\n",
      "Epoch [22/100], Loss: 0.2762, Accuracy: 0.4667\n",
      "Epoch [23/100], Loss: 0.2688, Accuracy: 0.4667\n",
      "Epoch [24/100], Loss: 0.2618, Accuracy: 0.4667\n",
      "Epoch [25/100], Loss: 0.2552, Accuracy: 0.4667\n",
      "Epoch [26/100], Loss: 0.2489, Accuracy: 0.4667\n",
      "Epoch [27/100], Loss: 0.2429, Accuracy: 0.4667\n",
      "Epoch [28/100], Loss: 0.2371, Accuracy: 0.4667\n",
      "Epoch [29/100], Loss: 0.2317, Accuracy: 0.4667\n",
      "Epoch [30/100], Loss: 0.2264, Accuracy: 0.4667\n",
      "Epoch [31/100], Loss: 0.2214, Accuracy: 0.4667\n",
      "Epoch [32/100], Loss: 0.2166, Accuracy: 0.4667\n",
      "Epoch [33/100], Loss: 0.2120, Accuracy: 0.4667\n",
      "Epoch [34/100], Loss: 0.2076, Accuracy: 0.4667\n",
      "Epoch [35/100], Loss: 0.2034, Accuracy: 0.4667\n",
      "Epoch [36/100], Loss: 0.1993, Accuracy: 0.4667\n",
      "Epoch [37/100], Loss: 0.1954, Accuracy: 0.4667\n",
      "Epoch [38/100], Loss: 0.1917, Accuracy: 0.4667\n",
      "Epoch [39/100], Loss: 0.1880, Accuracy: 0.4667\n",
      "Epoch [40/100], Loss: 0.1846, Accuracy: 0.4667\n",
      "Epoch [41/100], Loss: 0.1812, Accuracy: 0.4667\n",
      "Epoch [42/100], Loss: 0.1779, Accuracy: 0.4667\n",
      "Epoch [43/100], Loss: 0.1748, Accuracy: 0.4667\n",
      "Epoch [44/100], Loss: 0.1718, Accuracy: 0.4667\n",
      "Epoch [45/100], Loss: 0.1688, Accuracy: 0.4667\n",
      "Epoch [46/100], Loss: 0.1660, Accuracy: 0.4667\n",
      "Epoch [47/100], Loss: 0.1633, Accuracy: 0.4667\n",
      "Epoch [48/100], Loss: 0.1606, Accuracy: 0.4667\n",
      "Epoch [49/100], Loss: 0.1580, Accuracy: 0.4667\n",
      "Epoch [50/100], Loss: 0.1555, Accuracy: 0.4667\n",
      "Epoch [51/100], Loss: 0.1531, Accuracy: 0.4667\n",
      "Epoch [52/100], Loss: 0.1508, Accuracy: 0.4667\n",
      "Epoch [53/100], Loss: 0.1485, Accuracy: 0.4667\n",
      "Epoch [54/100], Loss: 0.1463, Accuracy: 0.4667\n",
      "Epoch [55/100], Loss: 0.1441, Accuracy: 0.4667\n",
      "Epoch [56/100], Loss: 0.1420, Accuracy: 0.4667\n",
      "Epoch [57/100], Loss: 0.1400, Accuracy: 0.4667\n",
      "Epoch [58/100], Loss: 0.1380, Accuracy: 0.4667\n",
      "Epoch [59/100], Loss: 0.1361, Accuracy: 0.4667\n",
      "Epoch [60/100], Loss: 0.1343, Accuracy: 0.4667\n",
      "Epoch [61/100], Loss: 0.1324, Accuracy: 0.4667\n",
      "Epoch [62/100], Loss: 0.1307, Accuracy: 0.4667\n",
      "Epoch [63/100], Loss: 0.1289, Accuracy: 0.4667\n",
      "Epoch [64/100], Loss: 0.1273, Accuracy: 0.4667\n",
      "Epoch [65/100], Loss: 0.1256, Accuracy: 0.4667\n",
      "Epoch [66/100], Loss: 0.1240, Accuracy: 0.4667\n",
      "Epoch [67/100], Loss: 0.1225, Accuracy: 0.4667\n",
      "Epoch [68/100], Loss: 0.1209, Accuracy: 0.4667\n",
      "Epoch [69/100], Loss: 0.1195, Accuracy: 0.4667\n",
      "Epoch [70/100], Loss: 0.1180, Accuracy: 0.4667\n",
      "Epoch [71/100], Loss: 0.1166, Accuracy: 0.4667\n",
      "Epoch [72/100], Loss: 0.1152, Accuracy: 0.4667\n",
      "Epoch [73/100], Loss: 0.1139, Accuracy: 0.4667\n",
      "Epoch [74/100], Loss: 0.1125, Accuracy: 0.4667\n",
      "Epoch [75/100], Loss: 0.1112, Accuracy: 0.4667\n",
      "Epoch [76/100], Loss: 0.1100, Accuracy: 0.4667\n",
      "Epoch [77/100], Loss: 0.1087, Accuracy: 0.4667\n",
      "Epoch [78/100], Loss: 0.1075, Accuracy: 0.4667\n",
      "Epoch [79/100], Loss: 0.1064, Accuracy: 0.4667\n",
      "Epoch [80/100], Loss: 0.1052, Accuracy: 0.4667\n",
      "Epoch [81/100], Loss: 0.1041, Accuracy: 0.4667\n",
      "Epoch [82/100], Loss: 0.1030, Accuracy: 0.4667\n",
      "Epoch [83/100], Loss: 0.1019, Accuracy: 0.4667\n",
      "Epoch [84/100], Loss: 0.1008, Accuracy: 0.4667\n",
      "Epoch [85/100], Loss: 0.0998, Accuracy: 0.4667\n",
      "Epoch [86/100], Loss: 0.0987, Accuracy: 0.4667\n",
      "Epoch [87/100], Loss: 0.0977, Accuracy: 0.4667\n",
      "Epoch [88/100], Loss: 0.0968, Accuracy: 0.4667\n",
      "Epoch [89/100], Loss: 0.0958, Accuracy: 0.4667\n",
      "Epoch [90/100], Loss: 0.0949, Accuracy: 0.4667\n",
      "Epoch [91/100], Loss: 0.0939, Accuracy: 0.4667\n",
      "Epoch [92/100], Loss: 0.0930, Accuracy: 0.4667\n",
      "Epoch [93/100], Loss: 0.0921, Accuracy: 0.4667\n",
      "Epoch [94/100], Loss: 0.0913, Accuracy: 0.4667\n",
      "Epoch [95/100], Loss: 0.0904, Accuracy: 0.4667\n",
      "Epoch [96/100], Loss: 0.0896, Accuracy: 0.4667\n",
      "Epoch [97/100], Loss: 0.0887, Accuracy: 0.4667\n",
      "Epoch [98/100], Loss: 0.0879, Accuracy: 0.4667\n",
      "Epoch [99/100], Loss: 0.0871, Accuracy: 0.4667\n",
      "Epoch [100/100], Loss: 0.0863, Accuracy: 0.4667\n"
     ]
    }
   ],
   "source": [
    "import torch\n",
    "from torch.utils.data import DataLoader, TensorDataset\n",
    "\n",
    "# Assuming train_image_tensor, train_labels_tensor, validation_image_tensor, validation_label_tensor are already defined\n",
    "# Create DataLoader objects for training and validation datasets\n",
    "train_dataset = TensorDataset(train_image_tensor, train_labels_tensor)\n",
    "validation_dataset = TensorDataset(validation_image_tensor, validation_label_tensor)\n",
    "\n",
    "train_loader = DataLoader(train_dataset, batch_size=32, shuffle=True)  # Batch size of 32\n",
    "validation_loader = DataLoader(validation_dataset, batch_size=32, shuffle=False)\n",
    "\n",
    "# Number of times we train our model using the training data\n",
    "n_epochs = 100\n",
    "# Lists to keep track of loss and accuracy\n",
    "loss_list = []\n",
    "accuracy_list = []\n",
    "# Size of the validation data\n",
    "N_test = len(validation_dataset)\n",
    "\n",
    "# Function to train the model based on number of epochs\n",
    "def train_model(n_epochs):\n",
    "    # Loop over the number of epochs\n",
    "    for epoch in range(n_epochs):\n",
    "        # Set the model to training mode\n",
    "        model.train()\n",
    "        \n",
    "        for x_batch, y_batch in train_loader:\n",
    "            # Resets the calculated gradient value, this must be done each time as it accumulates\n",
    "            optimizer.zero_grad()\n",
    "            # Flatten input and make prediction\n",
    "            z = model(x_batch.view(-1, 128 * 128))  # Flatten the input images\n",
    "            # Calculate the loss between the model's predictions and the actual labels\n",
    "            loss = criterion(z, y_batch)\n",
    "            # Perform backpropagation to compute gradients\n",
    "            loss.backward()\n",
    "            # Update model weights\n",
    "            optimizer.step()\n",
    "\n",
    "        # Validation phase (we do not train here)\n",
    "        model.eval()\n",
    "        correct = 0\n",
    "        total = 0\n",
    "        with torch.no_grad():  # Disable gradient calculation for validation\n",
    "            for x_val, y_val in validation_loader:\n",
    "                # Flatten validation images and make predictions\n",
    "                z_val = model(x_val.view(-1, 128 * 128))\n",
    "                # Get predicted class (the one with the highest score)\n",
    "                _, yhat = torch.max(z_val.data, 1)\n",
    "                # Count correct predictions\n",
    "                correct += (yhat == y_val).sum().item()\n",
    "                total += y_val.size(0)\n",
    "\n",
    "        # Calculate validation accuracy\n",
    "        accuracy = correct / total\n",
    "\n",
    "        # Append the loss and accuracy for each epoch\n",
    "        loss_list.append(loss.item())  # .item() extracts the scalar value from the tensor\n",
    "        accuracy_list.append(accuracy)\n",
    "\n",
    "        # Print the loss and accuracy for the current epoch\n",
    "        print(f'Epoch [{epoch+1}/{n_epochs}], Loss: {loss.item():.4f}, Accuracy: {accuracy:.4f}')\n",
    "\n",
    "# Instantiate the model (input size = 128*128 = 16384, output size = 2)\n",
    "input_size = 128 * 128\n",
    "output_size = 2\n",
    "model = SoftMax(input_size, output_size)\n",
    "\n",
    "# Define loss function and optimizer\n",
    "criterion = nn.CrossEntropyLoss()  # Cross-entropy loss for classification\n",
    "optimizer = torch.optim.SGD(model.parameters(), lr=0.001)  # SGD optimizer\n",
    "\n",
    "# Call the train_model function\n",
    "train_model(n_epochs)"
   ]
  },
  {
   "cell_type": "code",
   "execution_count": 213,
   "metadata": {},
   "outputs": [
    {
     "data": {
      "image/png": "[encoded data removed]",
      "text/plain": [
       "<Figure size 640x480 with 2 Axes>"
      ]
     },
     "metadata": {},
     "output_type": "display_data"
    }
   ],
   "source": [
    "# Plot the loss and accuracy\n",
    "\n",
    "fig, ax1 = plt.subplots()\n",
    "color = 'tab:red'\n",
    "ax1.plot(loss_list,color=color)\n",
    "ax1.set_xlabel('epoch',color=color)\n",
    "ax1.set_ylabel('total loss',color=color)\n",
    "ax1.tick_params(axis='y', color=color)\n",
    "    \n",
    "ax2 = ax1.twinx()  \n",
    "color = 'tab:blue'\n",
    "ax2.set_ylabel('accuracy', color=color)  \n",
    "ax2.plot( accuracy_list, color=color)\n",
    "ax2.tick_params(axis='y', color=color)\n",
    "fig.tight_layout()"
   ]
  }
 ],
 "metadata": {
  "kernelspec": {
   "display_name": "PYTHON_ENV",
   "language": "python",
   "name": "python3"
  },
  "language_info": {
   "codemirror_mode": {
    "name": "ipython",
    "version": 3
   },
   "file_extension": ".py",
   "mimetype": "text/x-python",
   "name": "python",
   "nbconvert_exporter": "python",
   "pygments_lexer": "ipython3",
   "version": "3.12.6"
  }
 },
 "nbformat": 4,
 "nbformat_minor": 2
}
