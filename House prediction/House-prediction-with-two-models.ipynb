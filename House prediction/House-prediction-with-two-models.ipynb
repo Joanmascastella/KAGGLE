{
 "cells": [
  {
   "cell_type": "markdown",
   "metadata": {},
   "source": [
    "This is my second attempt at creating a machine learning script using the sklearn library to accurately predict house prices.\n",
    "\n",
    "In my first attempt, the model was off by an average of $20,000 per house. This was mainly due to incorrect data cleaning and improper model evaluation.\n",
    "\n",
    "This time, I’ll carefully go through each step one at a time. Additionally, instead of training the model on the entire dataset and all features at once, I will train the model on each feature individually to see if that improves accuracy.\n",
    "\n",
    "I will be training and testing two different models: K Neighbors and SGD regressor to evaluate their accuracy."
   ]
  },
  {
   "cell_type": "markdown",
   "metadata": {},
   "source": [
    "Importing libaries "
   ]
  },
  {
   "cell_type": "code",
   "execution_count": 192,
   "metadata": {},
   "outputs": [],
   "source": [
    "import pandas as pd\n",
    "from sklearn.linear_model import SGDRegressor\n",
    "from sklearn.neighbors import KNeighborsRegressor\n",
    "from sklearn.tree import DecisionTreeClassifier\n",
    "from sklearn.metrics import mean_squared_error\n",
    "from sklearn.model_selection import train_test_split\n",
    "from sklearn.preprocessing import LabelEncoder, StandardScaler"
   ]
  },
  {
   "cell_type": "markdown",
   "metadata": {},
   "source": [
    "Reading Data"
   ]
  },
  {
   "cell_type": "code",
   "execution_count": 193,
   "metadata": {},
   "outputs": [],
   "source": [
    "train_df = pd.read_csv(\"./kaggle/house-prices-advanced-regression-techniques/train.csv\")\n",
    "test_df = pd.read_csv(\"./kaggle/house-prices-advanced-regression-techniques/test.csv\")"
   ]
  },
  {
   "cell_type": "code",
   "execution_count": null,
   "metadata": {},
   "outputs": [],
   "source": [
    "train_df.head(5)"
   ]
  },
  {
   "cell_type": "code",
   "execution_count": null,
   "metadata": {},
   "outputs": [],
   "source": [
    "test_df.head(5)"
   ]
  },
  {
   "cell_type": "markdown",
   "metadata": {},
   "source": [
    "Cleaning data "
   ]
  },
  {
   "cell_type": "code",
   "execution_count": 196,
   "metadata": {},
   "outputs": [],
   "source": [
    "# Fill missing categorical values with the mode\n",
    "train_df_cleaned = train_df.fillna(train_df.mode().iloc[0])\n",
    "test_df_cleaned = test_df.fillna(test_df.mode().iloc[0])"
   ]
  },
  {
   "cell_type": "code",
   "execution_count": null,
   "metadata": {},
   "outputs": [],
   "source": [
    "# Check for missing values\n",
    "print(train_df_cleaned.isnull().sum())\n",
    "print(test_df_cleaned.isnull().sum())"
   ]
  },
  {
   "cell_type": "code",
   "execution_count": null,
   "metadata": {},
   "outputs": [],
   "source": [
    "train_df_cleaned.head(5)"
   ]
  },
  {
   "cell_type": "code",
   "execution_count": 199,
   "metadata": {},
   "outputs": [],
   "source": [
    "train_df_cleaned.drop(columns=['Id', 'Alley', 'MiscVal', 'Fence', 'MiscFeature'], inplace=True)"
   ]
  },
  {
   "cell_type": "code",
   "execution_count": null,
   "metadata": {},
   "outputs": [],
   "source": [
    "train_df_cleaned.head(5)"
   ]
  },
  {
   "cell_type": "markdown",
   "metadata": {},
   "source": [
    "Processing data "
   ]
  },
  {
   "cell_type": "code",
   "execution_count": 201,
   "metadata": {},
   "outputs": [],
   "source": [
    "encoder = LabelEncoder()\n",
    "\n",
    "for column in train_df_cleaned.select_dtypes(include=['object']).columns:\n",
    "    train_df_cleaned[column] = encoder.fit_transform(train_df_cleaned[column])"
   ]
  },
  {
   "cell_type": "markdown",
   "metadata": {},
   "source": [
    "Model/Training"
   ]
  },
  {
   "cell_type": "code",
   "execution_count": 202,
   "metadata": {},
   "outputs": [],
   "source": [
    "X = train_df_cleaned.drop(columns=[\"SalePrice\"])\n",
    "Y = train_df_cleaned['SalePrice']"
   ]
  },
  {
   "cell_type": "code",
   "execution_count": null,
   "metadata": {},
   "outputs": [],
   "source": [
    "X"
   ]
  },
  {
   "cell_type": "code",
   "execution_count": null,
   "metadata": {},
   "outputs": [],
   "source": [
    "Y"
   ]
  },
  {
   "cell_type": "code",
   "execution_count": 205,
   "metadata": {},
   "outputs": [],
   "source": [
    "X_train, X_test, y_train, y_test = train_test_split(X, Y, test_size=0.2, random_state=20)"
   ]
  },
  {
   "cell_type": "code",
   "execution_count": 206,
   "metadata": {},
   "outputs": [],
   "source": [
    "scaler = StandardScaler()\n",
    "X_train_scaled = scaler.fit_transform(X_train)\n",
    "X_test_scaled = scaler.transform(X_test)"
   ]
  },
  {
   "cell_type": "code",
   "execution_count": null,
   "metadata": {},
   "outputs": [],
   "source": [
    "model_1 = SGDRegressor()\n",
    "model_2 = KNeighborsRegressor()\n",
    "model_3 = DecisionTreeClassifier()"
   ]
  },
  {
   "cell_type": "code",
   "execution_count": null,
   "metadata": {},
   "outputs": [],
   "source": [
    "model_1.fit(X_train_scaled, y_train)"
   ]
  },
  {
   "cell_type": "code",
   "execution_count": null,
   "metadata": {},
   "outputs": [],
   "source": [
    "model_2.fit(X_train_scaled, y_train)"
   ]
  },
  {
   "cell_type": "code",
   "execution_count": null,
   "metadata": {},
   "outputs": [],
   "source": [
    "model_3.fit(X_train_scaled, y_train)"
   ]
  },
  {
   "cell_type": "markdown",
   "metadata": {},
   "source": [
    "Evaluating (inspo from kaggle user IRON WOLF)"
   ]
  },
  {
   "cell_type": "code",
   "execution_count": null,
   "metadata": {},
   "outputs": [],
   "source": [
    "models = [model_1, model_2, model_3]\n",
    "\n",
    "models_names = ['SGDRegressor', 'KNeighborsRegressor', 'DecisionTreeClassifier']\n",
    "\n",
    "squared_errors = []\n",
    "train_scores = []\n",
    "test_scores = []\n",
    "ratios = []\n",
    "model_evaluations = []\n",
    "\n",
    "# Loop through models and calculate metrics\n",
    "for model, name in zip(models, models_names):\n",
    "    # Predict on test data\n",
    "    y_pred = model.predict(X_test_scaled)\n",
    "    \n",
    "    # Calculate Mean Squared Error\n",
    "    mse = mean_squared_error(y_test, y_pred)\n",
    "    squared_errors.append(f'{mse * 100:.2f}%')\n",
    "    \n",
    "    # Calculate train and test scores\n",
    "    train_score = model.score(X_train_scaled, y_train)\n",
    "    test_score = model.score(X_test_scaled, y_test)\n",
    "    \n",
    "    train_scores.append(train_score)\n",
    "    test_scores.append(test_score)\n",
    "    \n",
    "    # Difference between train and test score (ratio)\n",
    "    ratio_diff = train_score - test_score\n",
    "    ratios.append(f'{ratio_diff * 100:.2f}%')\n",
    "    \n",
    "    # Model evaluation\n",
    "    if train_score <= 0.65 and test_score <= 0.65:\n",
    "        model_evaluations.append('bad')\n",
    "    elif train_score > test_score * 1.10:\n",
    "        model_evaluations.append('overfit')\n",
    "    elif 0.65 < train_score < 0.80 and 0.65 < test_score < 0.80:\n",
    "        model_evaluations.append('middle')\n",
    "    elif 0.80 <= train_score < 1.00 and 0.80 <= test_score < 1.00:\n",
    "        model_evaluations.append('good')\n",
    "    elif train_score >= 0.80 and test_score < 0.80:\n",
    "        model_evaluations.append('high train, low test')\n",
    "    else:\n",
    "        model_evaluations.append('unknown')\n",
    "\n",
    "# Create a DataFrame to display the results\n",
    "model_score = pd.DataFrame({\n",
    "    'Model': models_names,\n",
    "    'Train score': [f'{round(score * 100, 2)}%' for score in train_scores],\n",
    "    'Test score': [f'{round(score * 100, 2)}%' for score in test_scores],\n",
    "    'Ratio difference': ratios,\n",
    "    'Evaluate model': model_evaluations,\n",
    "})\n",
    "\n",
    "# Display the result\n",
    "model_score"
   ]
  }
 ],
 "metadata": {
  "kernelspec": {
   "display_name": "base",
   "language": "python",
   "name": "python3"
  },
  "language_info": {
   "codemirror_mode": {
    "name": "ipython",
    "version": 3
   },
   "file_extension": ".py",
   "mimetype": "text/x-python",
   "name": "python",
   "nbconvert_exporter": "python",
   "pygments_lexer": "ipython3",
   "version": "3.12.2"
  }
 },
 "nbformat": 4,
 "nbformat_minor": 2
}
