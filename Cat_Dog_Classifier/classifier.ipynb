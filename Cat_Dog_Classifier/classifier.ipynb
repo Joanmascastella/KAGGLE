{
 "cells": [
  {
   "cell_type": "code",
   "execution_count": 33,
   "metadata": {},
   "outputs": [],
   "source": [
    "# PyTorch Library\n",
    "import torch \n",
    "# PyTorch Neural Network\n",
    "import torch.nn as nn\n",
    "# Allows us to transform data\n",
    "import torchvision.transforms as transforms\n",
    "# Allows us to get the digit dataset\n",
    "import torchvision.datasets as dsets\n",
    "# Creating graphs\n",
    "import matplotlib.pylab as plt\n",
    "# Allows us to use arrays to manipulate and store data\n",
    "import numpy as np\n",
    "import os\n",
    "from PIL import Image"
   ]
  },
  {
   "cell_type": "markdown",
   "metadata": {},
   "source": [
    "Use the following function to plot out the parameters of the Softmax function:"
   ]
  },
  {
   "cell_type": "code",
   "execution_count": 34,
   "metadata": {},
   "outputs": [],
   "source": [
    "# The function to plot parameters\n",
    "\n",
    "def PlotParameters(model): \n",
    "    W = model.state_dict()['linear.weight'].data\n",
    "    w_min = W.min().item()\n",
    "    w_max = W.max().item()\n",
    "    fig, axes = plt.subplots(2, 5)\n",
    "    fig.subplots_adjust(hspace=0.01, wspace=0.1)\n",
    "    for i, ax in enumerate(axes.flat):\n",
    "        if i < 10:\n",
    "            \n",
    "            # Set the label for the sub-plot.\n",
    "            ax.set_xlabel(\"class: {0}\".format(i))\n",
    "\n",
    "            # Plot the image.\n",
    "            ax.imshow(W[i, :].view(28, 28), vmin=w_min, vmax=w_max, cmap='seismic')\n",
    "\n",
    "            ax.set_xticks([])\n",
    "            ax.set_yticks([])\n",
    "\n",
    "        # Ensure the plot is shown correctly with multiple plots\n",
    "        # in a single Notebook cell.\n",
    "    plt.show()"
   ]
  },
  {
   "cell_type": "markdown",
   "metadata": {},
   "source": [
    "Use the following function to visualize the data: "
   ]
  },
  {
   "cell_type": "code",
   "execution_count": 35,
   "metadata": {},
   "outputs": [],
   "source": [
    "# Plot the data\n",
    "def show_data(data_sample):\n",
    "    plt.imshow(data_sample[0].numpy().reshape(28, 28), cmap='gray')\n",
    "    plt.title('y = ' + str(data_sample[1]))"
   ]
  },
  {
   "cell_type": "markdown",
   "metadata": {},
   "source": [
    "Load Datasets"
   ]
  },
  {
   "cell_type": "code",
   "execution_count": 36,
   "metadata": {},
   "outputs": [],
   "source": [
    "train_dog_images = '/Users/joanmascastella/Desktop/CODE/backup/Cat_Dog_Classifier/Data/Train_Data/Dog'\n",
    "train_cat_images = '/Users/joanmascastella/Desktop/CODE/backup/Cat_Dog_Classifier/Data/Train_Data/Cat'\n",
    "\n",
    "validation_dog_images = '/Users/joanmascastella/Desktop/CODE/backup/Cat_Dog_Classifier/Data/Test_Data/Dog'\n",
    "validation_cat_images = '/Users/joanmascastella/Desktop/CODE/backup/Cat_Dog_Classifier/Data/Test_Data/Cat'"
   ]
  },
  {
   "cell_type": "markdown",
   "metadata": {},
   "source": [
    "Transform Images\n",
    "\n",
    "- Ensure that images are all same size \n",
    "- Ensure that images are all grey scale\n",
    "- Ensure that labels are applied"
   ]
  },
  {
   "cell_type": "code",
   "execution_count": 37,
   "metadata": {},
   "outputs": [],
   "source": [
    "# Image transformations: resize to 128x128, convert to grayscale and transform to tensor\n",
    "image_transforms = transforms.Compose([\n",
    "    transforms.Grayscale(),        # Convert to grayscale\n",
    "    transforms.Resize((128, 128)),  # Resize to 128x128\n",
    "    transforms.ToTensor()           # Convert to tensor\n",
    "])"
   ]
  },
  {
   "cell_type": "markdown",
   "metadata": {},
   "source": [
    "Load images from folder and assign labels to them"
   ]
  },
  {
   "cell_type": "code",
   "execution_count": 38,
   "metadata": {},
   "outputs": [],
   "source": [
    "def load_images_from_folder(folder, label):\n",
    "    images = []\n",
    "    labels = []\n",
    "    for filename in os.listdir(folder):\n",
    "        if filename.endswith('.jpeg') or filename.endswith('.jpg') or filename.endswith('.png'):  # Check for valid image files\n",
    "            img_path = os.path.join(folder, filename)\n",
    "            try:\n",
    "                img = Image.open(img_path)\n",
    "                img = image_transforms(img)\n",
    "                images.append(img)\n",
    "                labels.append(label)\n",
    "            except Exception as e:\n",
    "                print(f\"Error loading image {img_path}: {e}\")\n",
    "        else:\n",
    "            print(f\"Skipping non-image file: {filename}\")\n",
    "    return images, labels"
   ]
  },
  {
   "cell_type": "markdown",
   "metadata": {},
   "source": [
    "Loading Images and assigning labels"
   ]
  },
  {
   "cell_type": "code",
   "execution_count": 39,
   "metadata": {},
   "outputs": [
    {
     "name": "stdout",
     "output_type": "stream",
     "text": [
      "Skipping non-image file: .DS_Store\n",
      "Skipping non-image file: .DS_Store\n"
     ]
    }
   ],
   "source": [
    "#Train dataset\n",
    "train_dog_tensors, train_dog_lables = load_images_from_folder(train_dog_images, 1)\n",
    "train_cat_tensors, train_cat_lables = load_images_from_folder(train_cat_images, 0)\n",
    "\n",
    "#Validation dataset\n",
    "validation_dog_tensors, validation_dog_lables = load_images_from_folder(validation_dog_images, 1)\n",
    "validation_cat_tensors, validation_cat_lables = load_images_from_folder(validation_cat_images, 0)"
   ]
  },
  {
   "cell_type": "markdown",
   "metadata": {},
   "source": [
    "Combine all images and lables"
   ]
  },
  {
   "cell_type": "code",
   "execution_count": 40,
   "metadata": {},
   "outputs": [],
   "source": [
    "train_images = train_dog_tensors + train_cat_tensors\n",
    "train_labels = train_dog_lables + train_cat_lables\n",
    "\n",
    "val_images = validation_dog_tensors + validation_cat_tensors\n",
    "val_labels = validation_dog_lables + validation_cat_lables"
   ]
  },
  {
   "cell_type": "markdown",
   "metadata": {},
   "source": [
    "Converting Lists to tensors"
   ]
  },
  {
   "cell_type": "code",
   "execution_count": 42,
   "metadata": {},
   "outputs": [],
   "source": [
    "# Stack the image tensors\n",
    "train_image_tensor = torch.stack(train_images) \n",
    "train_labels_tensor = torch.tensor(train_labels)  \n",
    "\n",
    "validation_image_tensor = torch.stack(val_images)\n",
    "validation_label_tensor = torch.tensor(val_labels)"
   ]
  }
 ],
 "metadata": {
  "kernelspec": {
   "display_name": "PYTHON_ENV",
   "language": "python",
   "name": "python3"
  },
  "language_info": {
   "codemirror_mode": {
    "name": "ipython",
    "version": 3
   },
   "file_extension": ".py",
   "mimetype": "text/x-python",
   "name": "python",
   "nbconvert_exporter": "python",
   "pygments_lexer": "ipython3",
   "version": "3.12.6"
  }
 },
 "nbformat": 4,
 "nbformat_minor": 2
}
